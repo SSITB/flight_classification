{
  "nbformat": 4,
  "nbformat_minor": 0,
  "metadata": {
    "colab": {
      "name": "Flight_Prediction.ipynb",
      "provenance": [],
      "collapsed_sections": []
    },
    "kernelspec": {
      "name": "python3",
      "display_name": "Python 3"
    }
  },
  "cells": [
    {
      "cell_type": "markdown",
      "metadata": {
        "id": "zaijSj0w47F6"
      },
      "source": [
        "# Access Google Drive Storage"
      ]
    },
    {
      "cell_type": "code",
      "metadata": {
        "colab": {
          "base_uri": "https://localhost:8080/"
        },
        "id": "IfBHlwwnk1V4",
        "outputId": "90475bbd-16a0-48ee-d67e-c732ee9f84b1"
      },
      "source": [
        "from google.colab import drive\n",
        "drive.mount('/gdrive')"
      ],
      "execution_count": null,
      "outputs": [
        {
          "output_type": "stream",
          "text": [
            "Mounted at /gdrive\n"
          ],
          "name": "stdout"
        }
      ]
    },
    {
      "cell_type": "markdown",
      "metadata": {
        "id": "eytPAC_V4-NC"
      },
      "source": [
        "# Import all required library\n"
      ]
    },
    {
      "cell_type": "code",
      "metadata": {
        "id": "AUKjYJM6ig23",
        "colab": {
          "base_uri": "https://localhost:8080/"
        },
        "outputId": "0a67cba4-be7f-46a3-fc03-23d80a3ffab8"
      },
      "source": [
        "from tensorflow.keras.applications.resnet50 import preprocess_input\n",
        "from tensorflow.keras.preprocessing.image import img_to_array\n",
        "from tensorflow.keras.models import load_model\n",
        "from tensorflow.keras.preprocessing.image import load_img\n",
        "import numpy as np\n",
        "\n",
        "import tensorflow as tf; print(tf.__version__)"
      ],
      "execution_count": null,
      "outputs": [
        {
          "output_type": "stream",
          "text": [
            "2.4.1\n"
          ],
          "name": "stdout"
        }
      ]
    },
    {
      "cell_type": "markdown",
      "metadata": {
        "id": "JaMJom7r5CPn"
      },
      "source": [
        "# Configure model path"
      ]
    },
    {
      "cell_type": "code",
      "metadata": {
        "id": "g_Z4vIIwke4Y"
      },
      "source": [
        "class Config:\n",
        "  MODEL_PATH = \"/gdrive/My Drive/model/test_flights/\""
      ],
      "execution_count": null,
      "outputs": []
    },
    {
      "cell_type": "markdown",
      "metadata": {
        "id": "9D2tiiL55H0Q"
      },
      "source": [
        "# Load Model "
      ]
    },
    {
      "cell_type": "code",
      "metadata": {
        "id": "uRQmJOCf8wlN"
      },
      "source": [
        "model = load_model(Config.MODEL_PATH)"
      ],
      "execution_count": null,
      "outputs": []
    },
    {
      "cell_type": "markdown",
      "metadata": {
        "id": "EsVbsOu85MdO"
      },
      "source": [
        "# Preprocess the image and predict with model"
      ]
    },
    {
      "cell_type": "code",
      "metadata": {
        "colab": {
          "base_uri": "https://localhost:8080/"
        },
        "id": "JpV6piG6kALN",
        "outputId": "8464128f-4906-48bd-bf30-be36d010f303"
      },
      "source": [
        "TEST_IMG = '/gdrive/My Drive/predict_images/rocket.jpg'\n",
        "#TEST_IMG = '/gdrive/My Drive/predict_images/helicopter.jpg'\n",
        "#TEST_IMG = '/gdrive/My Drive/predict_images/passenger-plane.jpg'\n",
        "\n",
        "\n",
        "image = load_img(TEST_IMG, target_size=(224, 224))\n",
        "image = img_to_array(image)\n",
        "image = preprocess_input(image)\n",
        "image = np.expand_dims(image, axis=0)\n",
        "proba = model.predict(image)[0]\n",
        "idxs = np.argsort(proba)[::-1][:2]\n",
        "\n",
        "print(\"Prediction values from trained model\", proba)\n",
        "\n",
        "\n",
        "mlb = ['helicopter','passenger-plane','rocket']\n",
        "dic={}\n",
        "\n",
        "for (i, j) in enumerate(idxs):\n",
        "\tlabel = \"{}: {:.2f}%\".format(mlb[j], proba[j] * 100)\n",
        "\t\n",
        "for (label, p) in zip(mlb, proba):\n",
        "  dic[label]= p * 100\n",
        "\t#print(\"{}: {:.2f}%\".format(label, p * 100))\n",
        " \n",
        "print(sorted(dic.items(), reverse=True,key=lambda x: x[1]))"
      ],
      "execution_count": null,
      "outputs": [
        {
          "output_type": "stream",
          "text": [
            "Prediction values from trained model [7.7516632e-04 7.5322175e-03 9.9169266e-01]\n",
            "[('rocket', 99.16926622390747), ('passenger-plane', 0.7532217539846897), ('helicopter', 0.07751663215458393)]\n"
          ],
          "name": "stdout"
        }
      ]
    }
  ]
}